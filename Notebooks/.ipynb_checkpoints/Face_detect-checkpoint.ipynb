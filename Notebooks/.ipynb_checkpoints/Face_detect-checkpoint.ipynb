version https://git-lfs.github.com/spec/v1
oid sha256:65653a8ce37ddccf7f6f1037ad5d5f201e4eadf88dbc9c0bb5c705b21b7e39d2
size 4107
